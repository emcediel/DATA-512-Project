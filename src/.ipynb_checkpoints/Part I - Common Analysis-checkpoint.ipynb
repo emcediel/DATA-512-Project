{
 "cells": [
  {
   "cell_type": "markdown",
   "id": "27afef76",
   "metadata": {},
   "source": [
    "## Part I - Common Analysis\n",
    "### US County to analyze: Oklahoma, Oklahoma."
   ]
  },
  {
   "cell_type": "code",
   "execution_count": 36,
   "id": "e8d4cb70",
   "metadata": {},
   "outputs": [],
   "source": [
    "#importing libraries\n",
    "import pandas as pd\n",
    "import seaborn as sns\n",
    "import matplotlib.pyplot as plt"
   ]
  },
  {
   "cell_type": "markdown",
   "id": "689b7352",
   "metadata": {},
   "source": [
    "## Step 0: Data acquisition"
   ]
  },
  {
   "cell_type": "markdown",
   "id": "85ba02ee",
   "metadata": {},
   "source": [
    "### 0.1 Read files"
   ]
  },
  {
   "cell_type": "code",
   "execution_count": 24,
   "id": "d38c8b4c",
   "metadata": {},
   "outputs": [
    {
     "data": {
      "text/plain": [
       "2268    40109.0\n",
       "Name: FIPS, dtype: float64"
      ]
     },
     "execution_count": 24,
     "metadata": {},
     "output_type": "execute_result"
    }
   ],
   "source": [
    "#We read the 3 input sources\n",
    "raw_us_cases = pd.read_csv('../data_raw/RAW_us_confirmed_cases.csv')\n",
    "mask_use = pd.read_csv('../data_raw/mask-use-by-county.csv')\n",
    "mask_mandates = pd.read_csv('../data_raw/U.S._State_and_Territorial_Public_Mask_Mandates_From_April_10__2020_through_August_15__2021_by_County_by_Day.csv')\n",
    "#The US county to analyze is Oklahoma, Oklahoma, we want to find out what is the FIPS for this county\n",
    "raw_us_cases[(raw_us_cases['Province_State']=='Oklahoma') & (raw_us_cases['Admin2']=='Oklahoma')]['FIPS']\n",
    "#We find that Oklahoma County, Oklahoma's FIPS is 40109"
   ]
  },
  {
   "cell_type": "markdown",
   "id": "5a98d2ac",
   "metadata": {},
   "source": [
    "### 0.2: Data manipulation"
   ]
  },
  {
   "cell_type": "markdown",
   "id": "e2004701",
   "metadata": {},
   "source": [
    "#### Clean *raw_us_cases* \n",
    "We would like to have a table with a date per row, so we filter for Oklahoma, OK and then we unpivot the table. We also want to filter such that it's between February 1, 2020 through October 1, 2021"
   ]
  },
  {
   "cell_type": "code",
   "execution_count": 18,
   "id": "73bd4341",
   "metadata": {},
   "outputs": [],
   "source": [
    "#We identify and remove unwanted columns\n",
    "raw_us_cases.drop(columns = ['UID','iso2','iso3','code3', 'Country_Region', 'Lat', 'Long_','Combined_Key'],inplace=True)\n",
    "#We filter for Oklahoma, OK and then we unpivot the table\n",
    "raw_us_cases_OK = raw_us_cases[(raw_us_cases['Province_State']=='Oklahoma') & (raw_us_cases['Admin2']=='Oklahoma')]\n",
    "us_cases_OK = pd.melt(raw_us_cases_OK, id_vars = ['Province_State', 'Admin2','FIPS'],var_name='date',value_name='cases')\n",
    "#We filter out the dates that are not between February 1, 2020 through October 1, 2021\n",
    "us_cases_OK['date'] = pd.to_datetime(us_cases_OK['date'])\n",
    "us_cases_OK = us_cases_OK[(us_cases_OK['date'] >= '2020-02-01') & (us_cases_OK['date'] <= '2021-10-01')]"
   ]
  },
  {
   "cell_type": "markdown",
   "id": "0e69bb8b",
   "metadata": {},
   "source": [
    "#### Clean *mask_use*\n",
    "We only want data from Oklahoma, OK (40109)"
   ]
  },
  {
   "cell_type": "code",
   "execution_count": 19,
   "id": "d9c1eb39",
   "metadata": {},
   "outputs": [],
   "source": [
    "mask_use_OK = mask_use[(mask_use['COUNTYFP']==40109)]\n"
   ]
  },
  {
   "cell_type": "markdown",
   "id": "64905fa7",
   "metadata": {},
   "source": [
    "#### Clean *mask_mandates*\n",
    "We only want data from Oklahoma, OK (40109). We also want to filter such that it's between February 1, 2020 through October 1, 2021"
   ]
  },
  {
   "cell_type": "code",
   "execution_count": 27,
   "id": "2a213d28",
   "metadata": {},
   "outputs": [],
   "source": [
    "#We filter for Oklahoma, OK\n",
    "mask_mandates = mask_mandates[(mask_mandates['FIPS_State']==40)&(mask_mandates['FIPS_County']==109)]\n",
    "#We filter out the dates that are not between February 1, 2020 through October 1, 2021\n",
    "mask_mandates['date'] = pd.to_datetime(mask_mandates['date'])\n",
    "mask_mandates_OK = mask_mandates[(mask_mandates['date'] >= '2020-02-01') & (mask_mandates['date'] <= '2021-10-01')]\n"
   ]
  },
  {
   "cell_type": "markdown",
   "id": "889f4e68",
   "metadata": {},
   "source": [
    "### Save processed files into the *data_clean* folder"
   ]
  },
  {
   "cell_type": "code",
   "execution_count": 21,
   "id": "29a282bc",
   "metadata": {},
   "outputs": [],
   "source": [
    "us_cases_OK.to_csv('../data_clean/us_cases_OK.csv')\n",
    "mask_use_OK.to_csv('../data_clean/mask_use_OK.csv')\n",
    "mask_mandates_OK.to_csv('../data_clean/mask_mandates_OK.csv')\n"
   ]
  },
  {
   "cell_type": "code",
   "execution_count": 31,
   "id": "bfdaadd8",
   "metadata": {},
   "outputs": [
    {
     "data": {
      "text/html": [
       "<div>\n",
       "<style scoped>\n",
       "    .dataframe tbody tr th:only-of-type {\n",
       "        vertical-align: middle;\n",
       "    }\n",
       "\n",
       "    .dataframe tbody tr th {\n",
       "        vertical-align: top;\n",
       "    }\n",
       "\n",
       "    .dataframe thead th {\n",
       "        text-align: right;\n",
       "    }\n",
       "</style>\n",
       "<table border=\"1\" class=\"dataframe\">\n",
       "  <thead>\n",
       "    <tr style=\"text-align: right;\">\n",
       "      <th></th>\n",
       "      <th>Province_State</th>\n",
       "      <th>Admin2</th>\n",
       "      <th>FIPS</th>\n",
       "      <th>date</th>\n",
       "      <th>cases</th>\n",
       "    </tr>\n",
       "  </thead>\n",
       "  <tbody>\n",
       "    <tr>\n",
       "      <th>10</th>\n",
       "      <td>Oklahoma</td>\n",
       "      <td>Oklahoma</td>\n",
       "      <td>40109.0</td>\n",
       "      <td>2020-02-01</td>\n",
       "      <td>0</td>\n",
       "    </tr>\n",
       "    <tr>\n",
       "      <th>11</th>\n",
       "      <td>Oklahoma</td>\n",
       "      <td>Oklahoma</td>\n",
       "      <td>40109.0</td>\n",
       "      <td>2020-02-02</td>\n",
       "      <td>0</td>\n",
       "    </tr>\n",
       "    <tr>\n",
       "      <th>12</th>\n",
       "      <td>Oklahoma</td>\n",
       "      <td>Oklahoma</td>\n",
       "      <td>40109.0</td>\n",
       "      <td>2020-02-03</td>\n",
       "      <td>0</td>\n",
       "    </tr>\n",
       "    <tr>\n",
       "      <th>13</th>\n",
       "      <td>Oklahoma</td>\n",
       "      <td>Oklahoma</td>\n",
       "      <td>40109.0</td>\n",
       "      <td>2020-02-04</td>\n",
       "      <td>0</td>\n",
       "    </tr>\n",
       "    <tr>\n",
       "      <th>14</th>\n",
       "      <td>Oklahoma</td>\n",
       "      <td>Oklahoma</td>\n",
       "      <td>40109.0</td>\n",
       "      <td>2020-02-05</td>\n",
       "      <td>0</td>\n",
       "    </tr>\n",
       "    <tr>\n",
       "      <th>...</th>\n",
       "      <td>...</td>\n",
       "      <td>...</td>\n",
       "      <td>...</td>\n",
       "      <td>...</td>\n",
       "      <td>...</td>\n",
       "    </tr>\n",
       "    <tr>\n",
       "      <th>614</th>\n",
       "      <td>Oklahoma</td>\n",
       "      <td>Oklahoma</td>\n",
       "      <td>40109.0</td>\n",
       "      <td>2021-09-27</td>\n",
       "      <td>111894</td>\n",
       "    </tr>\n",
       "    <tr>\n",
       "      <th>615</th>\n",
       "      <td>Oklahoma</td>\n",
       "      <td>Oklahoma</td>\n",
       "      <td>40109.0</td>\n",
       "      <td>2021-09-28</td>\n",
       "      <td>111894</td>\n",
       "    </tr>\n",
       "    <tr>\n",
       "      <th>616</th>\n",
       "      <td>Oklahoma</td>\n",
       "      <td>Oklahoma</td>\n",
       "      <td>40109.0</td>\n",
       "      <td>2021-09-29</td>\n",
       "      <td>113912</td>\n",
       "    </tr>\n",
       "    <tr>\n",
       "      <th>617</th>\n",
       "      <td>Oklahoma</td>\n",
       "      <td>Oklahoma</td>\n",
       "      <td>40109.0</td>\n",
       "      <td>2021-09-30</td>\n",
       "      <td>113912</td>\n",
       "    </tr>\n",
       "    <tr>\n",
       "      <th>618</th>\n",
       "      <td>Oklahoma</td>\n",
       "      <td>Oklahoma</td>\n",
       "      <td>40109.0</td>\n",
       "      <td>2021-10-01</td>\n",
       "      <td>113912</td>\n",
       "    </tr>\n",
       "  </tbody>\n",
       "</table>\n",
       "<p>609 rows × 5 columns</p>\n",
       "</div>"
      ],
      "text/plain": [
       "    Province_State    Admin2     FIPS       date   cases\n",
       "10        Oklahoma  Oklahoma  40109.0 2020-02-01       0\n",
       "11        Oklahoma  Oklahoma  40109.0 2020-02-02       0\n",
       "12        Oklahoma  Oklahoma  40109.0 2020-02-03       0\n",
       "13        Oklahoma  Oklahoma  40109.0 2020-02-04       0\n",
       "14        Oklahoma  Oklahoma  40109.0 2020-02-05       0\n",
       "..             ...       ...      ...        ...     ...\n",
       "614       Oklahoma  Oklahoma  40109.0 2021-09-27  111894\n",
       "615       Oklahoma  Oklahoma  40109.0 2021-09-28  111894\n",
       "616       Oklahoma  Oklahoma  40109.0 2021-09-29  113912\n",
       "617       Oklahoma  Oklahoma  40109.0 2021-09-30  113912\n",
       "618       Oklahoma  Oklahoma  40109.0 2021-10-01  113912\n",
       "\n",
       "[609 rows x 5 columns]"
      ]
     },
     "execution_count": 31,
     "metadata": {},
     "output_type": "execute_result"
    }
   ],
   "source": [
    "us_cases_OK"
   ]
  },
  {
   "cell_type": "code",
   "execution_count": 39,
   "id": "41504ac4",
   "metadata": {},
   "outputs": [
    {
     "data": {
      "image/png": "[encoded data removed]",
      "text/plain": [
       "<Figure size 720x360 with 1 Axes>"
      ]
     },
     "metadata": {
      "needs_background": "light"
     },
     "output_type": "display_data"
    }
   ],
   "source": [
    "plt.figure(figsize=(10,5))\n",
    "chart = sns.lineplot(data=us_cases_OK, x=\"date\", y=\"cases\")\n",
    "chart.tick_params(axis='x', labelrotation = 45)"
   ]
  },
  {
   "cell_type": "markdown",
   "id": "9f532ac6",
   "metadata": {},
   "source": [
    "## Step 1: Analyze\n",
    "We want to respond: How did masking policies change the progression of confirmed COVID-19 cases from February 1, 2020 through October 1, 2021?\n"
   ]
  },
  {
   "cell_type": "markdown",
   "id": "f280123d",
   "metadata": {},
   "source": [
    "We will begin to analyze and inspect the data for our specific County, this will allow us to know how to tackle this problem and respond the question\n",
    "\n"
   ]
  },
  {
   "cell_type": "markdown",
   "id": "3d3bea7e",
   "metadata": {},
   "source": [
    "### 1.1: Analyze Oklahoma County, OK data"
   ]
  },
  {
   "cell_type": "markdown",
   "id": "48b95351",
   "metadata": {},
   "source": [
    "We first want to know how the masking policies were handled in this county. We count the number of days with and without mask enforcement"
   ]
  },
  {
   "cell_type": "code",
   "execution_count": 41,
   "id": "2da6037d",
   "metadata": {},
   "outputs": [
    {
     "data": {
      "text/html": [
       "<div>\n",
       "<style scoped>\n",
       "    .dataframe tbody tr th:only-of-type {\n",
       "        vertical-align: middle;\n",
       "    }\n",
       "\n",
       "    .dataframe tbody tr th {\n",
       "        vertical-align: top;\n",
       "    }\n",
       "\n",
       "    .dataframe thead th {\n",
       "        text-align: right;\n",
       "    }\n",
       "</style>\n",
       "<table border=\"1\" class=\"dataframe\">\n",
       "  <thead>\n",
       "    <tr style=\"text-align: right;\">\n",
       "      <th></th>\n",
       "      <th>State_Tribe_Territory</th>\n",
       "      <th>County_Name</th>\n",
       "      <th>FIPS_State</th>\n",
       "      <th>FIPS_County</th>\n",
       "      <th>date</th>\n",
       "      <th>Face_Masks_Required_in_Public</th>\n",
       "      <th>Source_of_Action</th>\n",
       "      <th>URL</th>\n",
       "      <th>Citation</th>\n",
       "    </tr>\n",
       "    <tr>\n",
       "      <th>order_code</th>\n",
       "      <th></th>\n",
       "      <th></th>\n",
       "      <th></th>\n",
       "      <th></th>\n",
       "      <th></th>\n",
       "      <th></th>\n",
       "      <th></th>\n",
       "      <th></th>\n",
       "      <th></th>\n",
       "    </tr>\n",
       "  </thead>\n",
       "  <tbody>\n",
       "    <tr>\n",
       "      <th>2</th>\n",
       "      <td>493</td>\n",
       "      <td>493</td>\n",
       "      <td>493</td>\n",
       "      <td>493</td>\n",
       "      <td>493</td>\n",
       "      <td>0</td>\n",
       "      <td>0</td>\n",
       "      <td>0</td>\n",
       "      <td>0</td>\n",
       "    </tr>\n",
       "  </tbody>\n",
       "</table>\n",
       "</div>"
      ],
      "text/plain": [
       "            State_Tribe_Territory  County_Name  FIPS_State  FIPS_County  date  \\\n",
       "order_code                                                                      \n",
       "2                             493          493         493          493   493   \n",
       "\n",
       "            Face_Masks_Required_in_Public  Source_of_Action  URL  Citation  \n",
       "order_code                                                                  \n",
       "2                                       0                 0    0         0  "
      ]
     },
     "execution_count": 41,
     "metadata": {},
     "output_type": "execute_result"
    }
   ],
   "source": [
    "mask_mandates_OK.groupby('order_code').count()"
   ]
  },
  {
   "cell_type": "markdown",
   "id": "3b27ffec",
   "metadata": {},
   "source": [
    "We note that from the 493 days of data we have, there are no days with mask mandates imposed. Hence, it will be tougher to directly answer the initial question. Still, we will then try to understand how does \"voluntary masking\" looks like and how can we model it. "
   ]
  },
  {
   "cell_type": "markdown",
   "id": "c1afd713",
   "metadata": {},
   "source": [
    "### Checking mask use survey data"
   ]
  },
  {
   "cell_type": "markdown",
   "id": "6e6838f8",
   "metadata": {},
   "source": [
    "Given that we have no mask mandate for the whole time period, we will only work with the other two data sources we have left. First, we want to have some initial intuition about how possible is it that there could be high voluntary masking in this state. We have the mask use survey that can give us this perspective"
   ]
  },
  {
   "cell_type": "code",
   "execution_count": 42,
   "id": "8586e41e",
   "metadata": {},
   "outputs": [
    {
     "data": {
      "text/html": [
       "<div>\n",
       "<style scoped>\n",
       "    .dataframe tbody tr th:only-of-type {\n",
       "        vertical-align: middle;\n",
       "    }\n",
       "\n",
       "    .dataframe tbody tr th {\n",
       "        vertical-align: top;\n",
       "    }\n",
       "\n",
       "    .dataframe thead th {\n",
       "        text-align: right;\n",
       "    }\n",
       "</style>\n",
       "<table border=\"1\" class=\"dataframe\">\n",
       "  <thead>\n",
       "    <tr style=\"text-align: right;\">\n",
       "      <th></th>\n",
       "      <th>COUNTYFP</th>\n",
       "      <th>NEVER</th>\n",
       "      <th>RARELY</th>\n",
       "      <th>SOMETIMES</th>\n",
       "      <th>FREQUENTLY</th>\n",
       "      <th>ALWAYS</th>\n",
       "    </tr>\n",
       "  </thead>\n",
       "  <tbody>\n",
       "    <tr>\n",
       "      <th>2185</th>\n",
       "      <td>40109</td>\n",
       "      <td>0.096</td>\n",
       "      <td>0.064</td>\n",
       "      <td>0.097</td>\n",
       "      <td>0.225</td>\n",
       "      <td>0.518</td>\n",
       "    </tr>\n",
       "  </tbody>\n",
       "</table>\n",
       "</div>"
      ],
      "text/plain": [
       "      COUNTYFP  NEVER  RARELY  SOMETIMES  FREQUENTLY  ALWAYS\n",
       "2185     40109  0.096   0.064      0.097       0.225   0.518"
      ]
     },
     "execution_count": 42,
     "metadata": {},
     "output_type": "execute_result"
    }
   ],
   "source": [
    "mask_use_OK"
   ]
  },
  {
   "cell_type": "markdown",
   "id": "9ac6dbd0",
   "metadata": {},
   "source": [
    "From this datasource, we notice that even though this state does not have regulations or enforcement for mask use, there is reason to believe that there could be \"voluntary masking\" within the people of this county. We can conclude this given that almost 75% of the estimated share of people of this county would **\"frequently\"** or **\"always\"** wear a mask in public. \n",
    "\n",
    "\n"
   ]
  },
  {
   "cell_type": "markdown",
   "id": "3f77a2a1",
   "metadata": {},
   "source": [
    "Now that we have a better intuition of what is going on, where we know that there is no enforcement but a reason to believe that there is voluntary masking, we proceed to analyze the case dataset directly"
   ]
  },
  {
   "cell_type": "markdown",
   "id": "355ac6a7",
   "metadata": {},
   "source": [
    "### Prepare Oklahoma County cases data for time series analysis"
   ]
  },
  {
   "cell_type": "markdown",
   "id": "7b6e8921",
   "metadata": {},
   "source": [
    "We currently have cummulative cases, given that we want to analyze the time series, it is more convenient to convert this into daily new cases."
   ]
  },
  {
   "cell_type": "code",
   "execution_count": null,
   "id": "1fb0d2b2",
   "metadata": {},
   "outputs": [],
   "source": []
  },
  {
   "cell_type": "code",
   "execution_count": null,
   "id": "8a159834",
   "metadata": {},
   "outputs": [],
   "source": []
  }
 ],
 "metadata": {
  "kernelspec": {
   "display_name": "Python 3 (ipykernel)",
   "language": "python",
   "name": "python3"
  },
  "language_info": {
   "codemirror_mode": {
    "name": "ipython",
    "version": 3
   },
   "file_extension": ".py",
   "mimetype": "text/x-python",
   "name": "python",
   "nbconvert_exporter": "python",
   "pygments_lexer": "ipython3",
   "version": "3.9.7"
  }
 },
 "nbformat": 4,
 "nbformat_minor": 5
}
