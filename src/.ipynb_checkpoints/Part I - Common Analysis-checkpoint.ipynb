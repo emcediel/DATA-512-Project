{
 "cells": [
  {
   "cell_type": "markdown",
   "id": "27afef76",
   "metadata": {},
   "source": [
    "## Part I - Common Analysis\n",
    "### US County to analyze: Oklahoma, Oklahoma."
   ]
  },
  {
   "cell_type": "code",
   "execution_count": 2,
   "id": "e8d4cb70",
   "metadata": {},
   "outputs": [],
   "source": [
    "#importing libraries\n",
    "import pandas as pd\n",
    "import seaborn as sns"
   ]
  },
  {
   "cell_type": "markdown",
   "id": "689b7352",
   "metadata": {},
   "source": [
    "## Step 0: Data acquisition"
   ]
  },
  {
   "cell_type": "markdown",
   "id": "85ba02ee",
   "metadata": {},
   "source": [
    "### 0.1 Read files"
   ]
  },
  {
   "cell_type": "code",
   "execution_count": 3,
   "id": "d38c8b4c",
   "metadata": {},
   "outputs": [
    {
     "data": {
      "text/plain": [
       "2268    40109.0\n",
       "Name: FIPS, dtype: float64"
      ]
     },
     "execution_count": 3,
     "metadata": {},
     "output_type": "execute_result"
    }
   ],
   "source": [
    "#We read the 3 input sources\n",
    "raw_us_cases = pd.read_csv('../data_raw/RAW_us_confirmed_cases.csv')\n",
    "mask_use = pd.read_csv('../data_raw/mask-use-by-county.csv')\n",
    "mask_mandates = pd.read_csv('../data_raw/U.S._State_and_Territorial_Public_Mask_Mandates_From_April_10__2020_through_August_15__2021_by_County_by_Day.csv')\n",
    "#The US county to analyze is Oklahoma, Oklahoma, we want to find out what is the FIPS for this county\n",
    "raw_us_cases[(raw_us_cases['Province_State']=='Oklahoma') & (raw_us_cases['Admin2']=='Oklahoma')]['FIPS']\n",
    "#We find that Oklahoma County, Oklahoma's FIPS is 40109"
   ]
  },
  {
   "cell_type": "markdown",
   "id": "5a98d2ac",
   "metadata": {},
   "source": [
    "### 0.2: Data manipulation"
   ]
  },
  {
   "cell_type": "markdown",
   "id": "e2004701",
   "metadata": {},
   "source": [
    "#### Clean *raw_us_cases* \n",
    "We would like to have a table with a date per row, so we filter for Oklahoma, OK and then we unpivot the table. We also want to filter such that it's between February 1, 2020 through October 1, 2021"
   ]
  },
  {
   "cell_type": "code",
   "execution_count": 4,
   "id": "73bd4341",
   "metadata": {},
   "outputs": [],
   "source": [
    "#We identify and remove unwanted columns\n",
    "raw_us_cases.drop(columns = ['UID','iso2','iso3','code3', 'Country_Region', 'Lat', 'Long_','Combined_Key'],inplace=True)\n",
    "#We filter for Oklahoma, OK and then we unpivot the table\n",
    "raw_us_cases_OK = raw_us_cases[(raw_us_cases['Province_State']=='Oklahoma') & (raw_us_cases['Admin2']=='Oklahoma')]\n",
    "us_cases_OK = pd.melt(raw_us_cases_OK, id_vars = ['Province_State', 'Admin2','FIPS'],var_name='date',value_name='cases')\n",
    "#We filter out the dates that are not between February 1, 2020 through October 1, 2021\n",
    "us_cases_OK['date'] = pd.to_datetime(us_cases_OK['date'])\n",
    "us_cases_OK = us_cases_OK[(us_cases_OK['date'] >= '2020-02-01') & (us_cases_OK['date'] <= '2021-10-01')]"
   ]
  },
  {
   "cell_type": "markdown",
   "id": "0e69bb8b",
   "metadata": {},
   "source": [
    "#### Clean *mask_use*\n",
    "We only want data from Oklahoma, OK (40109)"
   ]
  },
  {
   "cell_type": "code",
   "execution_count": 5,
   "id": "d9c1eb39",
   "metadata": {},
   "outputs": [],
   "source": [
    "mask_use_OK = mask_use[(mask_use['COUNTYFP']==40109)]\n"
   ]
  },
  {
   "cell_type": "markdown",
   "id": "64905fa7",
   "metadata": {},
   "source": [
    "#### Clean *mask_mandates*\n",
    "We only want data from Oklahoma, OK (40109). We also want to filter such that it's between February 1, 2020 through October 1, 2021"
   ]
  },
  {
   "cell_type": "code",
   "execution_count": 7,
   "id": "2a213d28",
   "metadata": {},
   "outputs": [],
   "source": [
    "#We filter for Oklahoma, OK\n",
    "mask_mandates = mask_mandates[(mask_mandates['FIPS_State']==40)&(mask_mandates['FIPS_County']==109)]\n",
    "#We filter out the dates that are not between February 1, 2020 through October 1, 2021\n",
    "mask_mandates['date'] = pd.to_datetime(mask_mandates['date'])\n",
    "mask_mandates_OK = mask_mandates[(mask_mandates['date'] >= '2020-02-01') & (mask_mandates['date'] <= '2021-10-01')]\n"
   ]
  },
  {
   "cell_type": "code",
   "execution_count": 8,
   "id": "29a282bc",
   "metadata": {},
   "outputs": [],
   "source": [
    "us_cases_OK.to_csv('../data_clean/us_cases_OK.csv')\n",
    "mask_use_OK.to_csv('../data_clean/mask_use_OK.csv')\n",
    "mask_mandates_OK.to_csv('../data_clean/mask_mandates_OK.csv')\n"
   ]
  },
  {
   "cell_type": "code",
   "execution_count": null,
   "id": "e7c18141",
   "metadata": {},
   "outputs": [],
   "source": []
  }
 ],
 "metadata": {
  "kernelspec": {
   "display_name": "Python 3 (ipykernel)",
   "language": "python",
   "name": "python3"
  },
  "language_info": {
   "codemirror_mode": {
    "name": "ipython",
    "version": 3
   },
   "file_extension": ".py",
   "mimetype": "text/x-python",
   "name": "python",
   "nbconvert_exporter": "python",
   "pygments_lexer": "ipython3",
   "version": "3.9.7"
  }
 },
 "nbformat": 4,
 "nbformat_minor": 5
}
